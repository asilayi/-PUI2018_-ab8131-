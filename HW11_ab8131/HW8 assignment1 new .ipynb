{
 "cells": [
  {
   "cell_type": "markdown",
   "metadata": {},
   "source": [
    "## asignment 1"
   ]
  },
  {
   "cell_type": "code",
   "execution_count": 7,
   "metadata": {},
   "outputs": [
    {
     "name": "stdout",
     "output_type": "stream",
     "text": [
      "PUIdata /nfshome/ab8131/PUIdata\n"
     ]
    }
   ],
   "source": [
    "import pandas as pd\n",
    "import os\n",
    "\n",
    "print(\"PUIdata\", os.getenv(\"PUIDATA\"))"
   ]
  },
  {
   "cell_type": "code",
   "execution_count": 8,
   "metadata": {},
   "outputs": [
    {
     "data": {
      "text/html": [
       "<div>\n",
       "<table border=\"1\" class=\"dataframe\">\n",
       "  <thead>\n",
       "    <tr style=\"text-align: right;\">\n",
       "      <th></th>\n",
       "      <th>Grade</th>\n",
       "      <th>Year</th>\n",
       "      <th>Demographic</th>\n",
       "      <th>Number Tested</th>\n",
       "      <th>Mean Scale Score</th>\n",
       "      <th>Num Level 1</th>\n",
       "      <th>Pct Level 1</th>\n",
       "      <th>Num Level 2</th>\n",
       "      <th>Pct Level 2</th>\n",
       "      <th>Num Level 3</th>\n",
       "      <th>Pct Level 3</th>\n",
       "      <th>Num Level 4</th>\n",
       "      <th>Pct Level 4</th>\n",
       "      <th>Num Level 3 and 4</th>\n",
       "      <th>Pct Level 3 and 4</th>\n",
       "    </tr>\n",
       "  </thead>\n",
       "  <tbody>\n",
       "    <tr>\n",
       "      <th>0</th>\n",
       "      <td>3</td>\n",
       "      <td>2006</td>\n",
       "      <td>Not SWD</td>\n",
       "      <td>62092</td>\n",
       "      <td>680</td>\n",
       "      <td>3419</td>\n",
       "      <td>5.5</td>\n",
       "      <td>8535</td>\n",
       "      <td>13.7</td>\n",
       "      <td>32946</td>\n",
       "      <td>53.1</td>\n",
       "      <td>17192</td>\n",
       "      <td>27.7</td>\n",
       "      <td>50138</td>\n",
       "      <td>80.7</td>\n",
       "    </tr>\n",
       "    <tr>\n",
       "      <th>1</th>\n",
       "      <td>3</td>\n",
       "      <td>2007</td>\n",
       "      <td>Not SWD</td>\n",
       "      <td>60525</td>\n",
       "      <td>689</td>\n",
       "      <td>1631</td>\n",
       "      <td>2.7</td>\n",
       "      <td>5917</td>\n",
       "      <td>9.8</td>\n",
       "      <td>32758</td>\n",
       "      <td>54.1</td>\n",
       "      <td>20219</td>\n",
       "      <td>33.4</td>\n",
       "      <td>52977</td>\n",
       "      <td>87.5</td>\n",
       "    </tr>\n",
       "    <tr>\n",
       "      <th>2</th>\n",
       "      <td>3</td>\n",
       "      <td>2008</td>\n",
       "      <td>Not SWD</td>\n",
       "      <td>58364</td>\n",
       "      <td>690</td>\n",
       "      <td>757</td>\n",
       "      <td>1.3</td>\n",
       "      <td>4094</td>\n",
       "      <td>7.0</td>\n",
       "      <td>37672</td>\n",
       "      <td>64.5</td>\n",
       "      <td>15841</td>\n",
       "      <td>27.1</td>\n",
       "      <td>53513</td>\n",
       "      <td>91.7</td>\n",
       "    </tr>\n",
       "    <tr>\n",
       "      <th>3</th>\n",
       "      <td>3</td>\n",
       "      <td>2009</td>\n",
       "      <td>Not SWD</td>\n",
       "      <td>59155</td>\n",
       "      <td>694</td>\n",
       "      <td>301</td>\n",
       "      <td>0.5</td>\n",
       "      <td>2620</td>\n",
       "      <td>4.4</td>\n",
       "      <td>39383</td>\n",
       "      <td>66.6</td>\n",
       "      <td>16851</td>\n",
       "      <td>28.5</td>\n",
       "      <td>56234</td>\n",
       "      <td>95.1</td>\n",
       "    </tr>\n",
       "    <tr>\n",
       "      <th>4</th>\n",
       "      <td>3</td>\n",
       "      <td>2010</td>\n",
       "      <td>Not SWD</td>\n",
       "      <td>58565</td>\n",
       "      <td>694</td>\n",
       "      <td>4619</td>\n",
       "      <td>7.9</td>\n",
       "      <td>18859</td>\n",
       "      <td>32.2</td>\n",
       "      <td>20295</td>\n",
       "      <td>34.7</td>\n",
       "      <td>14792</td>\n",
       "      <td>25.3</td>\n",
       "      <td>35087</td>\n",
       "      <td>59.9</td>\n",
       "    </tr>\n",
       "  </tbody>\n",
       "</table>\n",
       "</div>"
      ],
      "text/plain": [
       "  Grade  Year Demographic  Number Tested  Mean Scale Score  Num Level 1  \\\n",
       "0     3  2006     Not SWD          62092               680         3419   \n",
       "1     3  2007     Not SWD          60525               689         1631   \n",
       "2     3  2008     Not SWD          58364               690          757   \n",
       "3     3  2009     Not SWD          59155               694          301   \n",
       "4     3  2010     Not SWD          58565               694         4619   \n",
       "\n",
       "   Pct Level 1  Num Level 2  Pct Level 2  Num Level 3  Pct Level 3  \\\n",
       "0          5.5         8535         13.7        32946         53.1   \n",
       "1          2.7         5917          9.8        32758         54.1   \n",
       "2          1.3         4094          7.0        37672         64.5   \n",
       "3          0.5         2620          4.4        39383         66.6   \n",
       "4          7.9        18859         32.2        20295         34.7   \n",
       "\n",
       "   Num Level 4  Pct Level 4  Num Level 3 and 4  Pct Level 3 and 4  \n",
       "0        17192         27.7              50138               80.7  \n",
       "1        20219         33.4              52977               87.5  \n",
       "2        15841         27.1              53513               91.7  \n",
       "3        16851         28.5              56234               95.1  \n",
       "4        14792         25.3              35087               59.9  "
      ]
     },
     "execution_count": 8,
     "metadata": {},
     "output_type": "execute_result"
    }
   ],
   "source": [
    "mathtest = pd.read_csv(\"%s/2006_-_2012_Math_Test_Results_-_Citywide_-_SWD.csv\"%os.getenv(\"PUIDATA\"))\n",
    "\n",
    "mathtest.head()"
   ]
  },
  {
   "cell_type": "code",
   "execution_count": 17,
   "metadata": {},
   "outputs": [
    {
     "name": "stderr",
     "output_type": "stream",
     "text": [
      "/usr/local/Anaconda3-5.0.0-Linux-x86_64/envs/PUI2016_Python3/lib/python3.5/site-packages/ipykernel/__main__.py:2: SettingWithCopyWarning: \n",
      "A value is trying to be set on a copy of a slice from a DataFrame.\n",
      "Try using .loc[row_indexer,col_indexer] = value instead\n",
      "\n",
      "See the caveats in the documentation: http://pandas.pydata.org/pandas-docs/stable/indexing.html#indexing-view-versus-copy\n",
      "  from ipykernel import kernelapp as app\n",
      "/usr/local/Anaconda3-5.0.0-Linux-x86_64/envs/PUI2016_Python3/lib/python3.5/site-packages/ipykernel/__main__.py:3: SettingWithCopyWarning: \n",
      "A value is trying to be set on a copy of a slice from a DataFrame.\n",
      "Try using .loc[row_indexer,col_indexer] = value instead\n",
      "\n",
      "See the caveats in the documentation: http://pandas.pydata.org/pandas-docs/stable/indexing.html#indexing-view-versus-copy\n",
      "  app.launch_new_instance()\n"
     ]
    }
   ],
   "source": [
    "mathtest2 = mathtest[['Year', 'Mean Scale Score']]\n",
    "mathtest2['Year'] = pd.to_numeric(mathtest2['Year'])\n",
    "mathtest2['Mean Scale Score'] = pd.to_numeric(mathtest2['Mean Scale Score'])\n"
   ]
  },
  {
   "cell_type": "code",
   "execution_count": 19,
   "metadata": {},
   "outputs": [
    {
     "data": {
      "text/html": [
       "<div>\n",
       "<table border=\"1\" class=\"dataframe\">\n",
       "  <thead>\n",
       "    <tr style=\"text-align: right;\">\n",
       "      <th></th>\n",
       "      <th>Year</th>\n",
       "      <th>Mean Scale Score</th>\n",
       "    </tr>\n",
       "  </thead>\n",
       "  <tbody>\n",
       "    <tr>\n",
       "      <th>0</th>\n",
       "      <td>2006</td>\n",
       "      <td>680</td>\n",
       "    </tr>\n",
       "    <tr>\n",
       "      <th>1</th>\n",
       "      <td>2007</td>\n",
       "      <td>689</td>\n",
       "    </tr>\n",
       "    <tr>\n",
       "      <th>2</th>\n",
       "      <td>2008</td>\n",
       "      <td>690</td>\n",
       "    </tr>\n",
       "    <tr>\n",
       "      <th>3</th>\n",
       "      <td>2009</td>\n",
       "      <td>694</td>\n",
       "    </tr>\n",
       "    <tr>\n",
       "      <th>4</th>\n",
       "      <td>2010</td>\n",
       "      <td>694</td>\n",
       "    </tr>\n",
       "  </tbody>\n",
       "</table>\n",
       "</div>"
      ],
      "text/plain": [
       "   Year  Mean Scale Score\n",
       "0  2006               680\n",
       "1  2007               689\n",
       "2  2008               690\n",
       "3  2009               694\n",
       "4  2010               694"
      ]
     },
     "execution_count": 19,
     "metadata": {},
     "output_type": "execute_result"
    }
   ],
   "source": [
    "mathtest2.head()"
   ]
  },
  {
   "cell_type": "code",
   "execution_count": 28,
   "metadata": {},
   "outputs": [],
   "source": [
    "mathtest2 = mathtest2.groupby(['Year'])['Mean Scale Score'].mean()"
   ]
  },
  {
   "cell_type": "code",
   "execution_count": 29,
   "metadata": {},
   "outputs": [
    {
     "data": {
      "text/plain": [
       "Year\n",
       "2006    640.785714\n",
       "2007    651.285714\n",
       "2008    659.428571\n",
       "2009    668.785714\n",
       "2010    669.428571\n",
       "2011    670.928571\n",
       "2012    673.000000\n",
       "Name: Mean Scale Score, dtype: float64"
      ]
     },
     "execution_count": 29,
     "metadata": {},
     "output_type": "execute_result"
    }
   ],
   "source": [
    "mathtest2"
   ]
  },
  {
   "cell_type": "code",
   "execution_count": 32,
   "metadata": {},
   "outputs": [
    {
     "data": {
      "text/plain": [
       "Text(0,0.5,'Mean Math Test Score')"
      ]
     },
     "execution_count": 32,
     "metadata": {},
     "output_type": "execute_result"
    },
    {
     "data": {
      "image/png": "[encoded data removed]",
      "text/plain": [
       "<matplotlib.figure.Figure at 0x7f03d99e1d30>"
      ]
     },
     "metadata": {},
     "output_type": "display_data"
    }
   ],
   "source": [
    "import matplotlib.pyplot\n",
    "%matplotlib inline\n",
    "#%pylab inline\n",
    "figure = plt.figure(figsize=(12, 8))\n",
    "plt.title(\"NYC 2006-2012 Math Test Results\", fontsize=20)\n",
    "mathtest2.plot(x=\"Year\", y=\"Mean Scale Score\")\n",
    "plt.xlabel(\"Year)\", fontsize=20)\n",
    "plt.ylabel(\"Mean Math Test Score\", fontsize=20)"
   ]
  },
  {
   "cell_type": "code",
   "execution_count": null,
   "metadata": {},
   "outputs": [],
   "source": []
  }
 ],
 "metadata": {
  "kernelspec": {
   "display_name": "PUI2016_Python3",
   "language": "python",
   "name": "pui2016_python3"
  },
  "language_info": {
   "codemirror_mode": {
    "name": "ipython",
    "version": 3
   },
   "file_extension": ".py",
   "mimetype": "text/x-python",
   "name": "python",
   "nbconvert_exporter": "python",
   "pygments_lexer": "ipython3",
   "version": "3.5.4"
  }
 },
 "nbformat": 4,
 "nbformat_minor": 2
}
